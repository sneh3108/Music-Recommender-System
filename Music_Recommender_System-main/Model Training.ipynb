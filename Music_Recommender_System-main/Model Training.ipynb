{
 "cells": [
  {
   "cell_type": "code",
   "execution_count": 1,
   "id": "866b561f-7ac8-406a-9f94-35cd4ec8cace",
   "metadata": {},
   "outputs": [
    {
     "name": "stderr",
     "output_type": "stream",
     "text": [
      "C:\\Users\\hp\\AppData\\Local\\Temp\\ipykernel_8428\\4080736814.py:1: DeprecationWarning: \n",
      "Pyarrow will become a required dependency of pandas in the next major release of pandas (pandas 3.0),\n",
      "(to allow more performant data types, such as the Arrow string type, and better interoperability with other libraries)\n",
      "but was not found to be installed on your system.\n",
      "If this would cause problems for you,\n",
      "please provide us feedback at https://github.com/pandas-dev/pandas/issues/54466\n",
      "        \n",
      "  import pandas as pd\n"
     ]
    }
   ],
   "source": [
    "import pandas as pd"
   ]
  },
  {
   "cell_type": "code",
   "execution_count": 2,
   "id": "48eae1bd-de22-4ae0-88e2-8e32a75d1d18",
   "metadata": {},
   "outputs": [],
   "source": [
    "df = pd.read_csv(\"spotify_millsongdata.csv\")"
   ]
  },
  {
   "cell_type": "code",
   "execution_count": 3,
   "id": "e635d091-53f7-457b-b417-e185b51f5f82",
   "metadata": {},
   "outputs": [
    {
     "data": {
      "text/html": [
       "<div>\n",
       "<style scoped>\n",
       "    .dataframe tbody tr th:only-of-type {\n",
       "        vertical-align: middle;\n",
       "    }\n",
       "\n",
       "    .dataframe tbody tr th {\n",
       "        vertical-align: top;\n",
       "    }\n",
       "\n",
       "    .dataframe thead th {\n",
       "        text-align: right;\n",
       "    }\n",
       "</style>\n",
       "<table border=\"1\" class=\"dataframe\">\n",
       "  <thead>\n",
       "    <tr style=\"text-align: right;\">\n",
       "      <th></th>\n",
       "      <th>artist</th>\n",
       "      <th>song</th>\n",
       "      <th>link</th>\n",
       "      <th>text</th>\n",
       "    </tr>\n",
       "  </thead>\n",
       "  <tbody>\n",
       "    <tr>\n",
       "      <th>0</th>\n",
       "      <td>ABBA</td>\n",
       "      <td>Ahe's My Kind Of Girl</td>\n",
       "      <td>/a/abba/ahes+my+kind+of+girl_20598417.html</td>\n",
       "      <td>Look at her face, it's a wonderful face  \\r\\nA...</td>\n",
       "    </tr>\n",
       "    <tr>\n",
       "      <th>1</th>\n",
       "      <td>ABBA</td>\n",
       "      <td>Andante, Andante</td>\n",
       "      <td>/a/abba/andante+andante_20002708.html</td>\n",
       "      <td>Take it easy with me, please  \\r\\nTouch me gen...</td>\n",
       "    </tr>\n",
       "    <tr>\n",
       "      <th>2</th>\n",
       "      <td>ABBA</td>\n",
       "      <td>As Good As New</td>\n",
       "      <td>/a/abba/as+good+as+new_20003033.html</td>\n",
       "      <td>I'll never know why I had to go  \\r\\nWhy I had...</td>\n",
       "    </tr>\n",
       "    <tr>\n",
       "      <th>3</th>\n",
       "      <td>ABBA</td>\n",
       "      <td>Bang</td>\n",
       "      <td>/a/abba/bang_20598415.html</td>\n",
       "      <td>Making somebody happy is a question of give an...</td>\n",
       "    </tr>\n",
       "    <tr>\n",
       "      <th>4</th>\n",
       "      <td>ABBA</td>\n",
       "      <td>Bang-A-Boomerang</td>\n",
       "      <td>/a/abba/bang+a+boomerang_20002668.html</td>\n",
       "      <td>Making somebody happy is a question of give an...</td>\n",
       "    </tr>\n",
       "  </tbody>\n",
       "</table>\n",
       "</div>"
      ],
      "text/plain": [
       "  artist                   song                                        link  \\\n",
       "0   ABBA  Ahe's My Kind Of Girl  /a/abba/ahes+my+kind+of+girl_20598417.html   \n",
       "1   ABBA       Andante, Andante       /a/abba/andante+andante_20002708.html   \n",
       "2   ABBA         As Good As New        /a/abba/as+good+as+new_20003033.html   \n",
       "3   ABBA                   Bang                  /a/abba/bang_20598415.html   \n",
       "4   ABBA       Bang-A-Boomerang      /a/abba/bang+a+boomerang_20002668.html   \n",
       "\n",
       "                                                text  \n",
       "0  Look at her face, it's a wonderful face  \\r\\nA...  \n",
       "1  Take it easy with me, please  \\r\\nTouch me gen...  \n",
       "2  I'll never know why I had to go  \\r\\nWhy I had...  \n",
       "3  Making somebody happy is a question of give an...  \n",
       "4  Making somebody happy is a question of give an...  "
      ]
     },
     "execution_count": 3,
     "metadata": {},
     "output_type": "execute_result"
    }
   ],
   "source": [
    "df.head(5)"
   ]
  },
  {
   "cell_type": "code",
   "execution_count": 4,
   "id": "817adc54-598c-40ef-b737-2288469d3d19",
   "metadata": {},
   "outputs": [
    {
     "data": {
      "text/html": [
       "<div>\n",
       "<style scoped>\n",
       "    .dataframe tbody tr th:only-of-type {\n",
       "        vertical-align: middle;\n",
       "    }\n",
       "\n",
       "    .dataframe tbody tr th {\n",
       "        vertical-align: top;\n",
       "    }\n",
       "\n",
       "    .dataframe thead th {\n",
       "        text-align: right;\n",
       "    }\n",
       "</style>\n",
       "<table border=\"1\" class=\"dataframe\">\n",
       "  <thead>\n",
       "    <tr style=\"text-align: right;\">\n",
       "      <th></th>\n",
       "      <th>artist</th>\n",
       "      <th>song</th>\n",
       "      <th>link</th>\n",
       "      <th>text</th>\n",
       "    </tr>\n",
       "  </thead>\n",
       "  <tbody>\n",
       "    <tr>\n",
       "      <th>57645</th>\n",
       "      <td>Ziggy Marley</td>\n",
       "      <td>Good Old Days</td>\n",
       "      <td>/z/ziggy+marley/good+old+days_10198588.html</td>\n",
       "      <td>Irie days come on play  \\r\\nLet the angels fly...</td>\n",
       "    </tr>\n",
       "    <tr>\n",
       "      <th>57646</th>\n",
       "      <td>Ziggy Marley</td>\n",
       "      <td>Hand To Mouth</td>\n",
       "      <td>/z/ziggy+marley/hand+to+mouth_20531167.html</td>\n",
       "      <td>Power to the workers  \\r\\nMore power  \\r\\nPowe...</td>\n",
       "    </tr>\n",
       "    <tr>\n",
       "      <th>57647</th>\n",
       "      <td>Zwan</td>\n",
       "      <td>Come With Me</td>\n",
       "      <td>/z/zwan/come+with+me_20148981.html</td>\n",
       "      <td>all you need  \\r\\nis something i'll believe  \\...</td>\n",
       "    </tr>\n",
       "    <tr>\n",
       "      <th>57648</th>\n",
       "      <td>Zwan</td>\n",
       "      <td>Desire</td>\n",
       "      <td>/z/zwan/desire_20148986.html</td>\n",
       "      <td>northern star  \\r\\nam i frightened  \\r\\nwhere ...</td>\n",
       "    </tr>\n",
       "    <tr>\n",
       "      <th>57649</th>\n",
       "      <td>Zwan</td>\n",
       "      <td>Heartsong</td>\n",
       "      <td>/z/zwan/heartsong_20148991.html</td>\n",
       "      <td>come in  \\r\\nmake yourself at home  \\r\\ni'm a ...</td>\n",
       "    </tr>\n",
       "  </tbody>\n",
       "</table>\n",
       "</div>"
      ],
      "text/plain": [
       "             artist           song  \\\n",
       "57645  Ziggy Marley  Good Old Days   \n",
       "57646  Ziggy Marley  Hand To Mouth   \n",
       "57647          Zwan   Come With Me   \n",
       "57648          Zwan         Desire   \n",
       "57649          Zwan      Heartsong   \n",
       "\n",
       "                                              link  \\\n",
       "57645  /z/ziggy+marley/good+old+days_10198588.html   \n",
       "57646  /z/ziggy+marley/hand+to+mouth_20531167.html   \n",
       "57647           /z/zwan/come+with+me_20148981.html   \n",
       "57648                 /z/zwan/desire_20148986.html   \n",
       "57649              /z/zwan/heartsong_20148991.html   \n",
       "\n",
       "                                                    text  \n",
       "57645  Irie days come on play  \\r\\nLet the angels fly...  \n",
       "57646  Power to the workers  \\r\\nMore power  \\r\\nPowe...  \n",
       "57647  all you need  \\r\\nis something i'll believe  \\...  \n",
       "57648  northern star  \\r\\nam i frightened  \\r\\nwhere ...  \n",
       "57649  come in  \\r\\nmake yourself at home  \\r\\ni'm a ...  "
      ]
     },
     "execution_count": 4,
     "metadata": {},
     "output_type": "execute_result"
    }
   ],
   "source": [
    "df.tail(5)"
   ]
  },
  {
   "cell_type": "code",
   "execution_count": 5,
   "id": "235339d7-3786-4a8a-836c-bdd526b490d0",
   "metadata": {},
   "outputs": [
    {
     "data": {
      "text/plain": [
       "(57650, 4)"
      ]
     },
     "execution_count": 5,
     "metadata": {},
     "output_type": "execute_result"
    }
   ],
   "source": [
    "df.shape"
   ]
  },
  {
   "cell_type": "code",
   "execution_count": 6,
   "id": "cf3a034a-622b-41ae-a423-8f3abd8f429f",
   "metadata": {},
   "outputs": [
    {
     "data": {
      "text/plain": [
       "artist    0\n",
       "song      0\n",
       "link      0\n",
       "text      0\n",
       "dtype: int64"
      ]
     },
     "execution_count": 6,
     "metadata": {},
     "output_type": "execute_result"
    }
   ],
   "source": [
    "df.isnull().sum()"
   ]
  },
  {
   "cell_type": "code",
   "execution_count": 7,
   "id": "be1baf80-6525-4a65-98d5-049f4381cf71",
   "metadata": {},
   "outputs": [],
   "source": [
    "df=df.sample(5000).drop('link',axis=1).reset_index(drop=True)"
   ]
  },
  {
   "cell_type": "code",
   "execution_count": 8,
   "id": "76186493-f586-4f3c-a9cd-99b03eb89674",
   "metadata": {},
   "outputs": [
    {
     "data": {
      "text/html": [
       "<div>\n",
       "<style scoped>\n",
       "    .dataframe tbody tr th:only-of-type {\n",
       "        vertical-align: middle;\n",
       "    }\n",
       "\n",
       "    .dataframe tbody tr th {\n",
       "        vertical-align: top;\n",
       "    }\n",
       "\n",
       "    .dataframe thead th {\n",
       "        text-align: right;\n",
       "    }\n",
       "</style>\n",
       "<table border=\"1\" class=\"dataframe\">\n",
       "  <thead>\n",
       "    <tr style=\"text-align: right;\">\n",
       "      <th></th>\n",
       "      <th>artist</th>\n",
       "      <th>song</th>\n",
       "      <th>text</th>\n",
       "    </tr>\n",
       "  </thead>\n",
       "  <tbody>\n",
       "    <tr>\n",
       "      <th>0</th>\n",
       "      <td>Grand Funk Railroad</td>\n",
       "      <td>Carry Me Through</td>\n",
       "      <td>Time has come,  \\r\\nTo start my search for tom...</td>\n",
       "    </tr>\n",
       "    <tr>\n",
       "      <th>1</th>\n",
       "      <td>Alabama</td>\n",
       "      <td>I Want To Be With You Tonight</td>\n",
       "      <td>I hope you know what I'm thinking  \\r\\nI hope ...</td>\n",
       "    </tr>\n",
       "    <tr>\n",
       "      <th>2</th>\n",
       "      <td>Phil Collins</td>\n",
       "      <td>Oughta Know By Now</td>\n",
       "      <td>You oughta know by now  \\r\\nThat a man can't h...</td>\n",
       "    </tr>\n",
       "    <tr>\n",
       "      <th>3</th>\n",
       "      <td>Marilyn Manson</td>\n",
       "      <td>Diamonds And Pollen</td>\n",
       "      <td>America bled to death,  \\r\\nElectric and pregn...</td>\n",
       "    </tr>\n",
       "    <tr>\n",
       "      <th>4</th>\n",
       "      <td>Bob Dylan</td>\n",
       "      <td>Ain't No More Cane</td>\n",
       "      <td>Ain't no more cane on the Brazos  \\r\\nOh, oh, ...</td>\n",
       "    </tr>\n",
       "    <tr>\n",
       "      <th>5</th>\n",
       "      <td>John Legend</td>\n",
       "      <td>It Don't Have To Change</td>\n",
       "      <td>Oh do you remember (ooh)  \\r\\nWhen the family ...</td>\n",
       "    </tr>\n",
       "    <tr>\n",
       "      <th>6</th>\n",
       "      <td>Bette Midler</td>\n",
       "      <td>Daytime Hustler</td>\n",
       "      <td>Daytime husler, you're out of line.  \\r\\nDon't...</td>\n",
       "    </tr>\n",
       "    <tr>\n",
       "      <th>7</th>\n",
       "      <td>Ultravox</td>\n",
       "      <td>Saturday Night In The City Of The Dead</td>\n",
       "      <td>While a fat guy zips by, bony in a Zodiac  \\r\\...</td>\n",
       "    </tr>\n",
       "    <tr>\n",
       "      <th>8</th>\n",
       "      <td>U2</td>\n",
       "      <td>40</td>\n",
       "      <td>(Sing this with me, this is 40)  \\r\\n  \\r\\nI w...</td>\n",
       "    </tr>\n",
       "    <tr>\n",
       "      <th>9</th>\n",
       "      <td>Chuck Berry</td>\n",
       "      <td>Bordeaux In My Pirough</td>\n",
       "      <td>So long, Jean, got a little show, thanks for t...</td>\n",
       "    </tr>\n",
       "  </tbody>\n",
       "</table>\n",
       "</div>"
      ],
      "text/plain": [
       "                artist                                    song  \\\n",
       "0  Grand Funk Railroad                        Carry Me Through   \n",
       "1              Alabama           I Want To Be With You Tonight   \n",
       "2         Phil Collins                      Oughta Know By Now   \n",
       "3       Marilyn Manson                     Diamonds And Pollen   \n",
       "4            Bob Dylan                      Ain't No More Cane   \n",
       "5          John Legend                 It Don't Have To Change   \n",
       "6         Bette Midler                         Daytime Hustler   \n",
       "7             Ultravox  Saturday Night In The City Of The Dead   \n",
       "8                   U2                                      40   \n",
       "9          Chuck Berry                  Bordeaux In My Pirough   \n",
       "\n",
       "                                                text  \n",
       "0  Time has come,  \\r\\nTo start my search for tom...  \n",
       "1  I hope you know what I'm thinking  \\r\\nI hope ...  \n",
       "2  You oughta know by now  \\r\\nThat a man can't h...  \n",
       "3  America bled to death,  \\r\\nElectric and pregn...  \n",
       "4  Ain't no more cane on the Brazos  \\r\\nOh, oh, ...  \n",
       "5  Oh do you remember (ooh)  \\r\\nWhen the family ...  \n",
       "6  Daytime husler, you're out of line.  \\r\\nDon't...  \n",
       "7  While a fat guy zips by, bony in a Zodiac  \\r\\...  \n",
       "8  (Sing this with me, this is 40)  \\r\\n  \\r\\nI w...  \n",
       "9  So long, Jean, got a little show, thanks for t...  "
      ]
     },
     "execution_count": 8,
     "metadata": {},
     "output_type": "execute_result"
    }
   ],
   "source": [
    "df.head(10)"
   ]
  },
  {
   "cell_type": "code",
   "execution_count": 9,
   "id": "43cac6bc-866a-4bd8-bc58-fbfd6eb59aaa",
   "metadata": {},
   "outputs": [
    {
     "data": {
      "text/plain": [
       "\"Time has come,  \\r\\nTo start my search for tomorrow.  \\r\\nOn and on,  \\r\\nThere's just no end to the sorrow.  \\r\\nBut I designed a way,  \\r\\nTo see my life through pity.  \\r\\nI don't have too much to say,  \\r\\nAnd the tears won't let me be.  \\r\\n  \\r\\nSo,  \\r\\nChorus  \\r\\nCarry me through the hard part.  \\r\\nHelp me find a new start.  \\r\\nCarry me through the hard part.  \\r\\n  \\r\\nFar too long,  \\r\\nI've thought of all the excuses.  \\r\\nTry to go on,  \\r\\nAnd stay my time to an end.  \\r\\nDreams in my head,  \\r\\nAll turning dark and useless.  \\r\\nHelp me find the hand,  \\r\\nThat knows where I've been.  \\r\\n  \\r\\nPlease,  \\r\\nChorus  \\r\\n  \\r\\nAhhhhhh ...  \\r\\nAhhhhhh ...  \\r\\n  \\r\\nCarry me through ...  \\r\\nCarry me through ...  \\r\\nCarry me through ...  \\r\\nCarry me, carry me, carry me ...  \\r\\n\\r\\n\""
      ]
     },
     "execution_count": 9,
     "metadata": {},
     "output_type": "execute_result"
    }
   ],
   "source": [
    "df['text'][0]"
   ]
  },
  {
   "cell_type": "code",
   "execution_count": 10,
   "id": "8bd642a5-c43e-49cc-a459-aed679fb6936",
   "metadata": {},
   "outputs": [
    {
     "data": {
      "text/plain": [
       "(5000, 3)"
      ]
     },
     "execution_count": 10,
     "metadata": {},
     "output_type": "execute_result"
    }
   ],
   "source": [
    "df.shape"
   ]
  },
  {
   "cell_type": "markdown",
   "id": "034dd2e9-cfdc-42cc-8949-3fc0f0239324",
   "metadata": {},
   "source": [
    "Text Cleaning/Text Processing"
   ]
  },
  {
   "cell_type": "code",
   "execution_count": 11,
   "id": "de28f2da-95fa-4bcb-be12-d13580256a01",
   "metadata": {},
   "outputs": [],
   "source": [
    "df['text'] = df['text'].str.lower().replace(r'^\\w\\s', ' ').replace(r'\\n', ' ', regex = True)"
   ]
  },
  {
   "cell_type": "code",
   "execution_count": 12,
   "id": "32febf75-9a11-41dc-ae01-67fc3fb41041",
   "metadata": {},
   "outputs": [
    {
     "data": {
      "text/html": [
       "<div>\n",
       "<style scoped>\n",
       "    .dataframe tbody tr th:only-of-type {\n",
       "        vertical-align: middle;\n",
       "    }\n",
       "\n",
       "    .dataframe tbody tr th {\n",
       "        vertical-align: top;\n",
       "    }\n",
       "\n",
       "    .dataframe thead th {\n",
       "        text-align: right;\n",
       "    }\n",
       "</style>\n",
       "<table border=\"1\" class=\"dataframe\">\n",
       "  <thead>\n",
       "    <tr style=\"text-align: right;\">\n",
       "      <th></th>\n",
       "      <th>artist</th>\n",
       "      <th>song</th>\n",
       "      <th>text</th>\n",
       "    </tr>\n",
       "  </thead>\n",
       "  <tbody>\n",
       "    <tr>\n",
       "      <th>0</th>\n",
       "      <td>Grand Funk Railroad</td>\n",
       "      <td>Carry Me Through</td>\n",
       "      <td>time has come,  \\r to start my search for tomo...</td>\n",
       "    </tr>\n",
       "    <tr>\n",
       "      <th>1</th>\n",
       "      <td>Alabama</td>\n",
       "      <td>I Want To Be With You Tonight</td>\n",
       "      <td>i hope you know what i'm thinking  \\r i hope y...</td>\n",
       "    </tr>\n",
       "    <tr>\n",
       "      <th>2</th>\n",
       "      <td>Phil Collins</td>\n",
       "      <td>Oughta Know By Now</td>\n",
       "      <td>you oughta know by now  \\r that a man can't ho...</td>\n",
       "    </tr>\n",
       "    <tr>\n",
       "      <th>3</th>\n",
       "      <td>Marilyn Manson</td>\n",
       "      <td>Diamonds And Pollen</td>\n",
       "      <td>america bled to death,  \\r electric and pregna...</td>\n",
       "    </tr>\n",
       "    <tr>\n",
       "      <th>4</th>\n",
       "      <td>Bob Dylan</td>\n",
       "      <td>Ain't No More Cane</td>\n",
       "      <td>ain't no more cane on the brazos  \\r oh, oh, o...</td>\n",
       "    </tr>\n",
       "    <tr>\n",
       "      <th>...</th>\n",
       "      <td>...</td>\n",
       "      <td>...</td>\n",
       "      <td>...</td>\n",
       "    </tr>\n",
       "    <tr>\n",
       "      <th>4995</th>\n",
       "      <td>ABBA</td>\n",
       "      <td>He Is Your Brother</td>\n",
       "      <td>benny i was a fighter, always looking for trou...</td>\n",
       "    </tr>\n",
       "    <tr>\n",
       "      <th>4996</th>\n",
       "      <td>The Temptations</td>\n",
       "      <td>Fan The Flame</td>\n",
       "      <td>once a wiseman said to me  \\r this advice i gi...</td>\n",
       "    </tr>\n",
       "    <tr>\n",
       "      <th>4997</th>\n",
       "      <td>Ray Charles</td>\n",
       "      <td>Tell Me You'll Wait For Me</td>\n",
       "      <td>i'll always love you the same old way  \\r no m...</td>\n",
       "    </tr>\n",
       "    <tr>\n",
       "      <th>4998</th>\n",
       "      <td>Judy Garland</td>\n",
       "      <td>Down On Melody Farm</td>\n",
       "      <td>i'm tired of the noise and hurly-burly  \\r tha...</td>\n",
       "    </tr>\n",
       "    <tr>\n",
       "      <th>4999</th>\n",
       "      <td>Frankie Laine</td>\n",
       "      <td>Jezebel</td>\n",
       "      <td>jezebel, jezebel  \\r   \\r if ever the devil wa...</td>\n",
       "    </tr>\n",
       "  </tbody>\n",
       "</table>\n",
       "<p>5000 rows × 3 columns</p>\n",
       "</div>"
      ],
      "text/plain": [
       "                   artist                           song  \\\n",
       "0     Grand Funk Railroad               Carry Me Through   \n",
       "1                 Alabama  I Want To Be With You Tonight   \n",
       "2            Phil Collins             Oughta Know By Now   \n",
       "3          Marilyn Manson            Diamonds And Pollen   \n",
       "4               Bob Dylan             Ain't No More Cane   \n",
       "...                   ...                            ...   \n",
       "4995                 ABBA             He Is Your Brother   \n",
       "4996      The Temptations                  Fan The Flame   \n",
       "4997          Ray Charles     Tell Me You'll Wait For Me   \n",
       "4998         Judy Garland            Down On Melody Farm   \n",
       "4999        Frankie Laine                        Jezebel   \n",
       "\n",
       "                                                   text  \n",
       "0     time has come,  \\r to start my search for tomo...  \n",
       "1     i hope you know what i'm thinking  \\r i hope y...  \n",
       "2     you oughta know by now  \\r that a man can't ho...  \n",
       "3     america bled to death,  \\r electric and pregna...  \n",
       "4     ain't no more cane on the brazos  \\r oh, oh, o...  \n",
       "...                                                 ...  \n",
       "4995  benny i was a fighter, always looking for trou...  \n",
       "4996  once a wiseman said to me  \\r this advice i gi...  \n",
       "4997  i'll always love you the same old way  \\r no m...  \n",
       "4998  i'm tired of the noise and hurly-burly  \\r tha...  \n",
       "4999  jezebel, jezebel  \\r   \\r if ever the devil wa...  \n",
       "\n",
       "[5000 rows x 3 columns]"
      ]
     },
     "execution_count": 12,
     "metadata": {},
     "output_type": "execute_result"
    }
   ],
   "source": [
    "df"
   ]
  },
  {
   "cell_type": "code",
   "execution_count": 13,
   "id": "be236cdb-dc48-4c5c-82a9-a5ad98389c73",
   "metadata": {},
   "outputs": [
    {
     "name": "stderr",
     "output_type": "stream",
     "text": [
      "\n",
      "[notice] A new release of pip is available: 23.2.1 -> 23.3.2\n",
      "[notice] To update, run: python.exe -m pip install --upgrade pip\n"
     ]
    },
    {
     "name": "stdout",
     "output_type": "stream",
     "text": [
      "Requirement already satisfied: nltk in c:\\users\\hp\\appdata\\local\\programs\\python\\python312\\lib\\site-packages (3.8.1)\n",
      "Requirement already satisfied: click in c:\\users\\hp\\appdata\\local\\programs\\python\\python312\\lib\\site-packages (from nltk) (8.1.7)\n",
      "Requirement already satisfied: joblib in c:\\users\\hp\\appdata\\local\\programs\\python\\python312\\lib\\site-packages (from nltk) (1.3.2)\n",
      "Requirement already satisfied: regex>=2021.8.3 in c:\\users\\hp\\appdata\\local\\programs\\python\\python312\\lib\\site-packages (from nltk) (2023.12.25)\n",
      "Requirement already satisfied: tqdm in c:\\users\\hp\\appdata\\local\\programs\\python\\python312\\lib\\site-packages (from nltk) (4.66.1)\n",
      "Requirement already satisfied: colorama in c:\\users\\hp\\appdata\\local\\programs\\python\\python312\\lib\\site-packages (from click->nltk) (0.4.6)\n"
     ]
    }
   ],
   "source": [
    "!pip install nltk"
   ]
  },
  {
   "cell_type": "code",
   "execution_count": 14,
   "id": "b106d969-dcee-4e9c-afc3-aec08b593a6c",
   "metadata": {},
   "outputs": [
    {
     "name": "stderr",
     "output_type": "stream",
     "text": [
      "[nltk_data] Downloading package punkt to\n",
      "[nltk_data]     C:\\Users\\hp\\AppData\\Roaming\\nltk_data...\n",
      "[nltk_data]   Package punkt is already up-to-date!\n"
     ]
    }
   ],
   "source": [
    "import nltk\n",
    "nltk.download('punkt')\n",
    "from nltk.stem.porter import PorterStemmer"
   ]
  },
  {
   "cell_type": "code",
   "execution_count": 15,
   "id": "dc516ca9-b9f9-4463-afac-1041cf08fb81",
   "metadata": {},
   "outputs": [],
   "source": [
    "stemmer = PorterStemmer()"
   ]
  },
  {
   "cell_type": "code",
   "execution_count": 16,
   "id": "1250ebab-96b9-4290-ab65-63f530696d68",
   "metadata": {},
   "outputs": [],
   "source": [
    "def token(txt):\n",
    "    token = nltk.word_tokenize(txt)\n",
    "    stemming = [stemmer.stem(w) for w in token]\n",
    "    return \" \".join(stemming)"
   ]
  },
  {
   "cell_type": "code",
   "execution_count": 17,
   "id": "d54b253b-238c-4216-b377-80815159ffc8",
   "metadata": {},
   "outputs": [
    {
     "data": {
      "text/plain": [
       "'you are beauti , beauti'"
      ]
     },
     "execution_count": 17,
     "metadata": {},
     "output_type": "execute_result"
    }
   ],
   "source": [
    "token(\"you are beautiful, beauty\")"
   ]
  },
  {
   "cell_type": "code",
   "execution_count": 18,
   "id": "916f2b26-32b7-4f26-b6eb-189597bcf550",
   "metadata": {},
   "outputs": [],
   "source": [
    "df['text'] = df['text'].apply(lambda x: token(x))"
   ]
  },
  {
   "cell_type": "code",
   "execution_count": 19,
   "id": "fa85e666-d87e-474b-95ec-d4bb3a4d9166",
   "metadata": {},
   "outputs": [],
   "source": [
    "from sklearn.feature_extraction.text import TfidfVectorizer\n",
    "from sklearn.metrics.pairwise import cosine_similarity"
   ]
  },
  {
   "cell_type": "code",
   "execution_count": 20,
   "id": "813b07f1-ce10-4326-ac4c-1f9aeaba2d6b",
   "metadata": {},
   "outputs": [],
   "source": [
    "tfid = TfidfVectorizer(analyzer='word',stop_words='english')"
   ]
  },
  {
   "cell_type": "code",
   "execution_count": 21,
   "id": "e7dd7455-8244-4b59-a47f-f917919dbae2",
   "metadata": {},
   "outputs": [],
   "source": [
    "matrix = tfid.fit_transform(df['text'])"
   ]
  },
  {
   "cell_type": "code",
   "execution_count": 22,
   "id": "6121ee86-8829-4018-a49c-817373cf2067",
   "metadata": {},
   "outputs": [],
   "source": [
    "similarity = cosine_similarity(matrix)"
   ]
  },
  {
   "cell_type": "code",
   "execution_count": 23,
   "id": "b12b9a15-0e75-4dff-b235-1916b4d8d451",
   "metadata": {},
   "outputs": [
    {
     "data": {
      "text/plain": [
       "array([0.02186285, 1.        , 0.04769743, ..., 0.04293621, 0.11866002,\n",
       "       0.01673069])"
      ]
     },
     "execution_count": 23,
     "metadata": {},
     "output_type": "execute_result"
    }
   ],
   "source": [
    "similarity[1]"
   ]
  },
  {
   "cell_type": "code",
   "execution_count": 24,
   "id": "842023b4-8a62-4998-a013-3cd3aa19472f",
   "metadata": {},
   "outputs": [
    {
     "data": {
      "text/plain": [
       "(5000, 3)"
      ]
     },
     "execution_count": 24,
     "metadata": {},
     "output_type": "execute_result"
    }
   ],
   "source": [
    "df.shape"
   ]
  },
  {
   "cell_type": "code",
   "execution_count": 30,
   "id": "70686362-8f0b-4419-87fa-3441961339f5",
   "metadata": {},
   "outputs": [
    {
     "data": {
      "text/plain": [
       "3"
      ]
     },
     "execution_count": 30,
     "metadata": {},
     "output_type": "execute_result"
    }
   ],
   "source": [
    "df[df['song'] == 'Diamonds And Pollen'].index[0]"
   ]
  },
  {
   "cell_type": "code",
   "execution_count": 34,
   "id": "d5757c71-c5ac-49c9-b430-0a79c8839d21",
   "metadata": {},
   "outputs": [],
   "source": [
    "def recommender(song_df):\n",
    "    idx = df[df['song'] == song_df].index[0]\n",
    "    distances = sorted(list(enumerate(similarity[idx])),reverse=True,key=lambda x:x[1])\n",
    "    \n",
    "    songs = []\n",
    "    for m_id in distances[1:21]:\n",
    "        songs.append(df.iloc[m_id[0]].song)\n",
    "        \n",
    "    return songs"
   ]
  },
  {
   "cell_type": "code",
   "execution_count": 35,
   "id": "d38868c4-a6b7-4489-b119-4171f56def3c",
   "metadata": {},
   "outputs": [
    {
     "data": {
      "text/plain": [
       "['Death Is Not The End',\n",
       " 'Death Is Not The End',\n",
       " 'You Love Me To Death',\n",
       " \"It's Growing\",\n",
       " 'Did You Not Hear My Lady',\n",
       " 'A Garden In The Rain',\n",
       " 'Gates To The Garden',\n",
       " 'America',\n",
       " 'Hand Of Doom',\n",
       " 'Million Reasons',\n",
       " 'Local Flowers',\n",
       " 'When',\n",
       " 'Low',\n",
       " 'Suite Madame Blue',\n",
       " 'Feel No Way',\n",
       " 'Crazy Island',\n",
       " 'A Whisper Of Death',\n",
       " 'Butterfly',\n",
       " 'Stars',\n",
       " 'Found']"
      ]
     },
     "execution_count": 35,
     "metadata": {},
     "output_type": "execute_result"
    }
   ],
   "source": [
    "recommender(\"Diamonds And Pollen\")"
   ]
  },
  {
   "cell_type": "code",
   "execution_count": 36,
   "id": "2e0b22af-4427-4584-ad00-388836382a18",
   "metadata": {},
   "outputs": [],
   "source": [
    "import pickle"
   ]
  },
  {
   "cell_type": "code",
   "execution_count": 37,
   "id": "ac15eb77-722d-4205-9054-c3a2c99d5fb6",
   "metadata": {},
   "outputs": [],
   "source": [
    "pickle.dump(similarity,open('similarity.pkl','wb'))"
   ]
  },
  {
   "cell_type": "code",
   "execution_count": 38,
   "id": "5c938362-fda0-4d2c-92e2-efe5c042094c",
   "metadata": {},
   "outputs": [],
   "source": [
    "pickle.dump(df,open('df.pkl','wb'))"
   ]
  },
  {
   "cell_type": "code",
   "execution_count": null,
   "id": "c1c61997-8634-44fb-9f04-3d01848ae206",
   "metadata": {},
   "outputs": [],
   "source": []
  }
 ],
 "metadata": {
  "kernelspec": {
   "display_name": "Python 3 (ipykernel)",
   "language": "python",
   "name": "python3"
  },
  "language_info": {
   "codemirror_mode": {
    "name": "ipython",
    "version": 3
   },
   "file_extension": ".py",
   "mimetype": "text/x-python",
   "name": "python",
   "nbconvert_exporter": "python",
   "pygments_lexer": "ipython3",
   "version": "3.12.1"
  }
 },
 "nbformat": 4,
 "nbformat_minor": 5
}
